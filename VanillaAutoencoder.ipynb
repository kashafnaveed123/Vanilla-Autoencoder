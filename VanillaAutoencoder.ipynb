{
  "nbformat": 4,
  "nbformat_minor": 0,
  "metadata": {
    "colab": {
      "provenance": [],
      "authorship_tag": "ABX9TyOP//ADDQW5Jd5pHWYyO0EC",
      "include_colab_link": true
    },
    "kernelspec": {
      "name": "python3",
      "display_name": "Python 3"
    },
    "language_info": {
      "name": "python"
    }
  },
  "cells": [
    {
      "cell_type": "markdown",
      "metadata": {
        "id": "view-in-github",
        "colab_type": "text"
      },
      "source": [
        "<a href=\"https://colab.research.google.com/github/kashafnaveed123/Vanilla-Autoencoder/blob/main/VanillaAutoencoder.ipynb\" target=\"_parent\"><img src=\"https://colab.research.google.com/assets/colab-badge.svg\" alt=\"Open In Colab\"/></a>"
      ]
    },
    {
      "cell_type": "markdown",
      "source": [
        "# **Vanilla AutoEncoder**"
      ],
      "metadata": {
        "id": "6sAYsYN0ZXZl"
      }
    },
    {
      "cell_type": "code",
      "execution_count": 7,
      "metadata": {
        "colab": {
          "base_uri": "https://localhost:8080/"
        },
        "id": "CxJxGGXwlbCN",
        "outputId": "4a1e5946-0b82-49a4-e179-ff93a50934c2"
      },
      "outputs": [
        {
          "output_type": "stream",
          "name": "stdout",
          "text": [
            "Colab only includes TensorFlow 2.x; %tensorflow_version has no effect.\n"
          ]
        }
      ],
      "source": [
        "%tensorflow_version 2.x"
      ]
    },
    {
      "cell_type": "code",
      "source": [
        "%pylab inline"
      ],
      "metadata": {
        "colab": {
          "base_uri": "https://localhost:8080/"
        },
        "id": "HkvhpDZgmXzO",
        "outputId": "8dc20563-a0cf-46cf-80ad-538102a6aac5"
      },
      "execution_count": 8,
      "outputs": [
        {
          "output_type": "stream",
          "name": "stdout",
          "text": [
            "Populating the interactive namespace from numpy and matplotlib\n"
          ]
        }
      ]
    },
    {
      "cell_type": "code",
      "source": [
        "from tensorflow import keras"
      ],
      "metadata": {
        "id": "OapNHs49mdq6"
      },
      "execution_count": 9,
      "outputs": []
    },
    {
      "cell_type": "code",
      "source": [
        "(x_train,_),(x_test,_)=keras.datasets.mnist.load_data()\n",
        "x_train=x_train/255.0\n",
        "x_test=x_test/255.0"
      ],
      "metadata": {
        "id": "_zfDrSZYm66n"
      },
      "execution_count": 12,
      "outputs": []
    },
    {
      "cell_type": "code",
      "source": [
        "encoder = keras.models.Sequential([\n",
        "    keras.layers.Flatten(input_shape=(28, 28)),\n",
        "    keras.layers.Dense(256, activation='relu'),\n",
        "    keras.layers.Dense(128, activation='relu'),\n",
        "    keras.layers.Dense(64, activation='relu')\n",
        "])\n"
      ],
      "metadata": {
        "id": "hX-Xg8BDpBEz",
        "colab": {
          "base_uri": "https://localhost:8080/"
        },
        "outputId": "ab960a89-0912-4ff3-8b5d-e4d304d7c74c"
      },
      "execution_count": 13,
      "outputs": [
        {
          "output_type": "stream",
          "name": "stderr",
          "text": [
            "/usr/local/lib/python3.11/dist-packages/keras/src/layers/reshaping/flatten.py:37: UserWarning: Do not pass an `input_shape`/`input_dim` argument to a layer. When using Sequential models, prefer using an `Input(shape)` object as the first layer in the model instead.\n",
            "  super().__init__(**kwargs)\n"
          ]
        }
      ]
    },
    {
      "cell_type": "code",
      "source": [
        "decoder = keras.models.Sequential([\n",
        "    keras.layers.Dense(128, activation='relu'),\n",
        "    keras.layers.Dense(256, activation='relu'),\n",
        "    keras.layers.Dense(28*28, activation='sigmoid'),\n",
        "    keras.layers.Reshape((28, 28))\n",
        "])"
      ],
      "metadata": {
        "id": "FKJzVCKCwA5o"
      },
      "execution_count": 14,
      "outputs": []
    },
    {
      "cell_type": "code",
      "source": [
        "stacked_autoencoder=keras.models.Sequential([encoder,decoder]);"
      ],
      "metadata": {
        "id": "zjV8lTSOxC7W"
      },
      "execution_count": 15,
      "outputs": []
    },
    {
      "cell_type": "code",
      "source": [
        "stacked_autoencoder.compile(\n",
        "    loss='mse',\n",
        "    optimizer='adam'\n",
        ")"
      ],
      "metadata": {
        "id": "5u3qWHtIxWnV"
      },
      "execution_count": 16,
      "outputs": []
    },
    {
      "cell_type": "code",
      "source": [
        "history=stacked_autoencoder.fit(\n",
        "    x_train,x_train,\n",
        "    epochs=10,\n",
        "    validation_data=[x_test,x_test]\n",
        ")"
      ],
      "metadata": {
        "id": "VK9sPQkjxbGf",
        "colab": {
          "base_uri": "https://localhost:8080/"
        },
        "outputId": "8680b25b-1e53-44f5-8be0-0751826ec466"
      },
      "execution_count": 17,
      "outputs": [
        {
          "output_type": "stream",
          "name": "stdout",
          "text": [
            "Epoch 1/10\n",
            "\u001b[1m1875/1875\u001b[0m \u001b[32m━━━━━━━━━━━━━━━━━━━━\u001b[0m\u001b[37m\u001b[0m \u001b[1m21s\u001b[0m 10ms/step - loss: 0.0397 - val_loss: 0.0126\n",
            "Epoch 2/10\n",
            "\u001b[1m1875/1875\u001b[0m \u001b[32m━━━━━━━━━━━━━━━━━━━━\u001b[0m\u001b[37m\u001b[0m \u001b[1m19s\u001b[0m 10ms/step - loss: 0.0120 - val_loss: 0.0096\n",
            "Epoch 3/10\n",
            "\u001b[1m1875/1875\u001b[0m \u001b[32m━━━━━━━━━━━━━━━━━━━━\u001b[0m\u001b[37m\u001b[0m \u001b[1m20s\u001b[0m 10ms/step - loss: 0.0093 - val_loss: 0.0082\n",
            "Epoch 4/10\n",
            "\u001b[1m1875/1875\u001b[0m \u001b[32m━━━━━━━━━━━━━━━━━━━━\u001b[0m\u001b[37m\u001b[0m \u001b[1m20s\u001b[0m 10ms/step - loss: 0.0080 - val_loss: 0.0075\n",
            "Epoch 5/10\n",
            "\u001b[1m1875/1875\u001b[0m \u001b[32m━━━━━━━━━━━━━━━━━━━━\u001b[0m\u001b[37m\u001b[0m \u001b[1m19s\u001b[0m 10ms/step - loss: 0.0072 - val_loss: 0.0068\n",
            "Epoch 6/10\n",
            "\u001b[1m1875/1875\u001b[0m \u001b[32m━━━━━━━━━━━━━━━━━━━━\u001b[0m\u001b[37m\u001b[0m \u001b[1m21s\u001b[0m 10ms/step - loss: 0.0067 - val_loss: 0.0064\n",
            "Epoch 7/10\n",
            "\u001b[1m1875/1875\u001b[0m \u001b[32m━━━━━━━━━━━━━━━━━━━━\u001b[0m\u001b[37m\u001b[0m \u001b[1m18s\u001b[0m 10ms/step - loss: 0.0062 - val_loss: 0.0060\n",
            "Epoch 8/10\n",
            "\u001b[1m1875/1875\u001b[0m \u001b[32m━━━━━━━━━━━━━━━━━━━━\u001b[0m\u001b[37m\u001b[0m \u001b[1m20s\u001b[0m 10ms/step - loss: 0.0059 - val_loss: 0.0058\n",
            "Epoch 9/10\n",
            "\u001b[1m1875/1875\u001b[0m \u001b[32m━━━━━━━━━━━━━━━━━━━━\u001b[0m\u001b[37m\u001b[0m \u001b[1m24s\u001b[0m 11ms/step - loss: 0.0057 - val_loss: 0.0056\n",
            "Epoch 10/10\n",
            "\u001b[1m1875/1875\u001b[0m \u001b[32m━━━━━━━━━━━━━━━━━━━━\u001b[0m\u001b[37m\u001b[0m \u001b[1m19s\u001b[0m 10ms/step - loss: 0.0055 - val_loss: 0.0053\n"
          ]
        }
      ]
    },
    {
      "cell_type": "code",
      "source": [
        "figsize=(20, 5)\n",
        "for i in range(8):\n",
        "    # Display original image\n",
        "    # subplot(row,column,defines the position becuase index starts from 1)\n",
        "    subplot(2, 8, i + 1)\n",
        "    # Display reconstructed image\n",
        "    pred = stacked_autoencoder.predict(x_test[i].reshape((1, 28, 28)))\n",
        "    # cmap stands for color map and it is used to control the color of the displayed image\n",
        "    # binary is the builtin-grayscale color map\n",
        "    imshow(x_test[i], cmap=\"binary\")\n",
        "\n",
        "    # i + 8 +1 ==> this means that in first 8 positions thee is the input image and and theoutput shows after the 8 position\n",
        "    # so, output is shows from 9 to 16  that's why we write i+8+1\n",
        "    subplot(2, 8, i + 8 +1)\n",
        "    imshow(pred.reshape((28, 28)), cmap=\"binary\")"
      ],
      "metadata": {
        "colab": {
          "base_uri": "https://localhost:8080/",
          "height": 458
        },
        "id": "nPMdalQadS3-",
        "outputId": "19657d35-9d6f-4e17-88fe-b146893914f7"
      },
      "execution_count": 18,
      "outputs": [
        {
          "output_type": "stream",
          "name": "stdout",
          "text": [
            "\u001b[1m1/1\u001b[0m \u001b[32m━━━━━━━━━━━━━━━━━━━━\u001b[0m\u001b[37m\u001b[0m \u001b[1m0s\u001b[0m 112ms/step\n",
            "\u001b[1m1/1\u001b[0m \u001b[32m━━━━━━━━━━━━━━━━━━━━\u001b[0m\u001b[37m\u001b[0m \u001b[1m0s\u001b[0m 38ms/step\n",
            "\u001b[1m1/1\u001b[0m \u001b[32m━━━━━━━━━━━━━━━━━━━━\u001b[0m\u001b[37m\u001b[0m \u001b[1m0s\u001b[0m 39ms/step\n",
            "\u001b[1m1/1\u001b[0m \u001b[32m━━━━━━━━━━━━━━━━━━━━\u001b[0m\u001b[37m\u001b[0m \u001b[1m0s\u001b[0m 43ms/step\n",
            "\u001b[1m1/1\u001b[0m \u001b[32m━━━━━━━━━━━━━━━━━━━━\u001b[0m\u001b[37m\u001b[0m \u001b[1m0s\u001b[0m 37ms/step\n",
            "\u001b[1m1/1\u001b[0m \u001b[32m━━━━━━━━━━━━━━━━━━━━\u001b[0m\u001b[37m\u001b[0m \u001b[1m0s\u001b[0m 41ms/step\n",
            "\u001b[1m1/1\u001b[0m \u001b[32m━━━━━━━━━━━━━━━━━━━━\u001b[0m\u001b[37m\u001b[0m \u001b[1m0s\u001b[0m 39ms/step\n",
            "\u001b[1m1/1\u001b[0m \u001b[32m━━━━━━━━━━━━━━━━━━━━\u001b[0m\u001b[37m\u001b[0m \u001b[1m0s\u001b[0m 39ms/step\n"
          ]
        },
        {
          "output_type": "display_data",
          "data": {
            "text/plain": [
              "<Figure size 640x480 with 16 Axes>"
            ],
            "image/png": "[encoded data removed]"
          },
          "metadata": {}
        }
      ]
    },
    {
      "cell_type": "markdown",
      "source": [
        " We can also do this"
      ],
      "metadata": {
        "id": "cStxlToXonEA"
      }
    },
    {
      "cell_type": "code",
      "source": [
        "figsize=(10,5)\n",
        "subplot(1,3,1)\n",
        "imshow(x_test[i],cmap=\"binary\")\n",
        "\n",
        "# plot the latent vector representation from the encoder\n",
        "subplot(1,3,2)\n",
        "# predict the latent vector representation from the selected image\n",
        "latent_vector=encoder.predict(x_test[i].reshape((1,28,28)))\n",
        "imshow(latent_vector , cmap='binary')\n",
        "# plot the reconstructed image obtained from the decoder\n",
        "subplot(1,3,3)\n",
        "# reconstucted image representation from the decoder\n",
        "pred=decoder.predict(latent_vector)\n",
        "imshow(pred.reshape((28,28)),cmap='binary')"
      ],
      "metadata": {
        "colab": {
          "base_uri": "https://localhost:8080/",
          "height": 261
        },
        "id": "iStAhzR9omgp",
        "outputId": "6df333ba-87cb-4c65-d980-9f8e96310372"
      },
      "execution_count": 21,
      "outputs": [
        {
          "output_type": "stream",
          "name": "stdout",
          "text": [
            "\u001b[1m1/1\u001b[0m \u001b[32m━━━━━━━━━━━━━━━━━━━━\u001b[0m\u001b[37m\u001b[0m \u001b[1m0s\u001b[0m 44ms/step\n",
            "\u001b[1m1/1\u001b[0m \u001b[32m━━━━━━━━━━━━━━━━━━━━\u001b[0m\u001b[37m\u001b[0m \u001b[1m0s\u001b[0m 51ms/step\n"
          ]
        },
        {
          "output_type": "execute_result",
          "data": {
            "text/plain": [
              "<matplotlib.image.AxesImage at 0x7e933e93fb10>"
            ]
          },
          "metadata": {},
          "execution_count": 21
        },
        {
          "output_type": "display_data",
          "data": {
            "text/plain": [
              "<Figure size 640x480 with 3 Axes>"
            ],
            "image/png": "[encoded data removed]"
          },
          "metadata": {}
        }
      ]
    },
    {
      "cell_type": "markdown",
      "source": [
        "# **Sparsity:**\n",
        " Sparsity means how many elements are zero in data structure\n",
        " **High sparsity** means many elements are zero\n",
        " **Low sparsity** means few are zero and mostly elements are non-zero."
      ],
      "metadata": {
        "id": "Ctzo0c1zr0ji"
      }
    },
    {
      "cell_type": "code",
      "source": [
        "\n",
        "# Calculate the sparsity constraints\n",
        "sparsity_low=30/(28*28)\n",
        "sparsity_high=1- 30/(28*28)\n",
        "\n",
        "# print the values\n",
        "print(\"sparsity_low\",sparsity_low)\n",
        "print(\"sparsity_high\",sparsity_high)"
      ],
      "metadata": {
        "colab": {
          "base_uri": "https://localhost:8080/"
        },
        "id": "yHEZe1vYr3Zl",
        "outputId": "b0b400c0-06b7-4655-966f-9d49e3afa0fa"
      },
      "execution_count": 22,
      "outputs": [
        {
          "output_type": "stream",
          "name": "stdout",
          "text": [
            "sparsity_low 0.03826530612244898\n",
            "sparsity_high 0.9617346938775511\n"
          ]
        }
      ]
    },
    {
      "cell_type": "markdown",
      "source": [
        "This shows that it can compress 96%"
      ],
      "metadata": {
        "id": "jDoq9tBete3n"
      }
    }
  ]
}